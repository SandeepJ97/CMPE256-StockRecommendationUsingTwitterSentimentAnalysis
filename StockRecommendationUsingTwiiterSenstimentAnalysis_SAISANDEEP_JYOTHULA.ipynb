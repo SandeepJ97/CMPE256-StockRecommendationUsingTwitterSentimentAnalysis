{
 "cells": [
  {
   "cell_type": "code",
   "execution_count": 9,
   "metadata": {},
   "outputs": [],
   "source": [
    "import datetime as dt\n",
    "import math\n",
    "\n",
    "import yfinance as yf\n",
    "import matplotlib.pyplot as plt\n",
    "import numpy as np\n",
    "import pandas as pd\n",
    "import tweepy\n",
    "from matplotlib import style\n",
    "from sklearn import preprocessing\n",
    "from sklearn.linear_model import LinearRegression\n",
    "from sklearn.model_selection import train_test_split\n",
    "from textblob import TextBlob\n",
    "import joblib\n",
    "from Tweet import Tweet\n",
    "import nltk"
   ]
  },
  {
   "cell_type": "code",
   "execution_count": 10,
   "metadata": {},
   "outputs": [],
   "source": [
    "def check_stock_symbol(flag=False, companies_file='companylist.csv'):\n",
    "    df = pd.read_csv(companies_file, usecols=[0])\n",
    "\n",
    "    while flag is False:\n",
    "        symbol = input('Enter a stock symbol to retrieve data from: ').upper()\n",
    "        for index in range(len(df)):\n",
    "            if df['Symbol'][index] == symbol:\n",
    "                flag = True\n",
    "    return flag, symbol\n"
   ]
  },
  {
   "cell_type": "code",
   "execution_count": 11,
   "metadata": {},
   "outputs": [],
   "source": [
    "def get_stock_data(symbol, from_date, to_date):\n",
    "    data = yf.download(symbol, start=from_date, end=to_date)\n",
    "    df = pd.DataFrame(data=data)\n",
    "\n",
    "    df = df[['Open', 'High', 'Low', 'Close', 'Volume']]\n",
    "    df['HighLoad'] = (df['High'] - df['Close']) / df['Close'] * 100.0\n",
    "    df['Change'] = (df['Close'] - df['Open']) / df['Open'] * 100.0\n",
    "\n",
    "    df = df[['Close', 'HighLoad', 'Change', 'Volume']]\n",
    "    return df"
   ]
  },
  {
   "cell_type": "code",
   "execution_count": 12,
   "metadata": {},
   "outputs": [],
   "source": [
    "def stock_forecasting(df):\n",
    "    forecast_col = 'Close'\n",
    "    forecast_out = int(math.ceil(0.1*len(df)))\n",
    "    df['Label'] = df[[forecast_col]].shift(-forecast_out)\n",
    "\n",
    "    X = np.array(df.drop(['Label'], axis=1))\n",
    "    X = preprocessing.scale(X)\n",
    "    X_forecast = X[-forecast_out:]\n",
    "    X = X[:-forecast_out]\n",
    "\n",
    "    df.dropna(inplace=True)\n",
    "    y = np.array(df['Label'])\n",
    "\n",
    "    X_train, X_test, y_train, y_test = train_test_split(X, y, test_size=0.5)\n",
    "\n",
    "    clf = LinearRegression(n_jobs=-1)\n",
    "    clf.fit(X_train, y_train)\n",
    "    accuracy = clf.score(X_test, y_test)\n",
    "    forecast = clf.predict(X_forecast)\n",
    "    df['Prediction'] = np.nan\n",
    "\n",
    "    last_date = df.iloc[-1].name\n",
    "    last_date = dt.datetime.strptime(str(last_date), \"%Y-%m-%d %H:%M:%S\")\n",
    "\n",
    "    for pred in forecast:\n",
    "        last_date += dt.timedelta(days=1)\n",
    "        df.loc[last_date.strftime(\"%Y-%m-%d\")] = [np.nan for _ in range(len(df.columns) - 1)] + [pred]\n",
    "    return df, forecast_out"
   ]
  },
  {
   "cell_type": "code",
   "execution_count": 13,
   "metadata": {},
   "outputs": [],
   "source": [
    "def forecast_plot(df):\n",
    "    df['Close'].plot(color='black')\n",
    "    df['Prediction'].plot(color='green')\n",
    "    plt.legend(loc=4)\n",
    "    plt.xlabel('Date')\n",
    "    plt.ylabel('Price')\n",
    "    plt.show()"
   ]
  },
  {
   "cell_type": "code",
   "execution_count": 14,
   "metadata": {},
   "outputs": [],
   "source": [
    "def retrieving_tweets_polarity(symbol):\n",
    "    \n",
    "    consumer_key = ''\n",
    "    consumer_secret = ''\n",
    "    access_token = ''\n",
    "    access_token_secret = ''\n",
    "    num_of_tweets = int()\n",
    "    \n",
    "    auth = tweepy.OAuthHandler(consumer_key,consumer_secret )\n",
    "    auth.set_access_token(access_token ,access_token_secret )\n",
    "    user = tweepy.API(auth, wait_on_rate_limit=True)\n",
    "\n",
    "    tweets = tweepy.Cursor(user.search, q=str(symbol), tweet_mode='extended', lang='en').items(num_of_tweets)\n",
    "\n",
    "    tweet_list = []\n",
    "    global_polarity = 0\n",
    "    for tweet in tweets:\n",
    "        tw = tweet.full_text\n",
    "        blob = TextBlob(tw)\n",
    "        polarity = 0\n",
    "        for sentence in blob.sentences:\n",
    "            polarity += sentence.sentiment.polarity\n",
    "            global_polarity += sentence.sentiment.polarity\n",
    "        tweet_list.append(Tweet(tw, polarity))\n",
    "\n",
    "    global_polarity = global_polarity / len(tweet_list)\n",
    "    return global_polarity"
   ]
  },
  {
   "cell_type": "code",
   "execution_count": 15,
   "metadata": {},
   "outputs": [],
   "source": [
    "def recommending(df, forecast_out, global_polarity):\n",
    "    if df.iloc[-forecast_out-1]['Close'] < df.iloc[-1]['Prediction']:\n",
    "        if global_polarity > 0:\n",
    "            print(\"According to the predictions and twitter sentiment analysis -> Investing in %s is a GREAT idea!\" % str(symbol))\n",
    "        elif global_polarity < 0:\n",
    "            print(\"According to the predictions and twitter sentiment analysis -> Investing in %s is a BAD idea!\" % str(symbol))\n",
    "    else:\n",
    "        print(\"According to the predictions and twitter sentiment analysis -> Investing in %s is a BAD idea!\" % str(symbol))\n"
   ]
  },
  {
   "cell_type": "code",
   "execution_count": 16,
   "metadata": {},
   "outputs": [
    {
     "name": "stdout",
     "output_type": "stream",
     "text": [
      "Enter a stock symbol to retrieve data from: ACST\n",
      "Retrieving Stock Data from introduced symbol...\n",
      "[*********************100%***********************]  1 of 1 downloaded\n",
      "Forecasting stock DataFrame...\n",
      "Plotting existing and forecasted values...\n"
     ]
    },
    {
     "data": {
      "image/png": "[encoded data removed]",
      "text/plain": [
       "<Figure size 432x288 with 1 Axes>"
      ]
     },
     "metadata": {
      "needs_background": "light"
     },
     "output_type": "display_data"
    },
    {
     "name": "stdout",
     "output_type": "stream",
     "text": [
      "Retrieving ACST related tweets polarity...\n",
      "Generating recommendation based on prediction & polarity...\n",
      "According to the predictions and twitter sentiment analysis -> Investing in ACST is a GREAT idea!\n"
     ]
    }
   ],
   "source": [
    "if __name__ == \"__main__\":\n",
    "    (flag, symbol) = check_stock_symbol(False, 'companylist.csv')\n",
    "    if flag:\n",
    "        actual_date = dt.date.today()\n",
    "        past_date = actual_date - dt.timedelta(days=365 * 3)\n",
    "\n",
    "        actual_date = actual_date.strftime(\"%Y-%m-%d\")\n",
    "        past_date = past_date.strftime(\"%Y-%m-%d\")\n",
    "\n",
    "        print (\"Retrieving Stock Data from introduced symbol...\")\n",
    "        dataframe = get_stock_data(symbol, past_date, actual_date)\n",
    "        print (\"Forecasting stock DataFrame...\")\n",
    "        (dataframe, forecast_out) = stock_forecasting(dataframe)\n",
    "        print (\"Plotting existing and forecasted values...\")\n",
    "        forecast_plot(dataframe)\n",
    "        print (\"Retrieving %s related tweets polarity...\" % symbol)\n",
    "        polarity = retrieving_tweets_polarity(symbol)\n",
    "        print (\"Generating recommendation based on prediction & polarity...\")\n",
    "        recommending(dataframe, forecast_out, polarity)"
   ]
  }
 ],
 "metadata": {
  "kernelspec": {
   "display_name": "Python 3",
   "language": "python",
   "name": "python3"
  },
  "language_info": {
   "codemirror_mode": {
    "name": "ipython",
    "version": 3
   },
   "file_extension": ".py",
   "mimetype": "text/x-python",
   "name": "python",
   "nbconvert_exporter": "python",
   "pygments_lexer": "ipython3",
   "version": "3.7.3"
  }
 },
 "nbformat": 4,
 "nbformat_minor": 2
}
